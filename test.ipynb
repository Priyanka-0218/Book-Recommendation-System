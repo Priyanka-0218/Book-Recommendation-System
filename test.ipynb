{
 "cells": [
  {
   "cell_type": "code",
   "execution_count": 2,
   "metadata": {},
   "outputs": [],
   "source": []
  },
  {
   "cell_type": "code",
   "execution_count": 5,
   "metadata": {},
   "outputs": [],
   "source": []
  },
  {
   "cell_type": "code",
   "execution_count": 18,
   "metadata": {},
   "outputs": [
    {
     "data": {
      "text/plain": [
       "'Harry Potter and the Order of the Phoenix'"
      ]
     },
     "execution_count": 18,
     "metadata": {},
     "output_type": "execute_result"
    }
   ],
   "source": [
    "'Harry Potter and the Order of the Phoenix'\n",
    "'The Truth: Stage Adaptation'\n",
    "'Love & Misadventure'"
   ]
  },
  {
   "cell_type": "code",
   "execution_count": 19,
   "metadata": {},
   "outputs": [],
   "source": []
  },
  {
   "cell_type": "code",
   "execution_count": null,
   "metadata": {},
   "outputs": [],
   "source": []
  },
  {
   "cell_type": "code",
   "execution_count": 23,
   "metadata": {},
   "outputs": [],
   "source": []
  },
  {
   "cell_type": "code",
   "execution_count": 44,
   "metadata": {},
   "outputs": [],
   "source": []
  },
  {
   "cell_type": "code",
   "execution_count": 37,
   "metadata": {},
   "outputs": [],
   "source": [
    "#Example usage:\n",
    "import user_profiling\n",
    "import os\n",
    "import pandas as pd\n",
    "\n",
    "def get_recommendation(user_id=None,book_title=None,top_n=10):\n",
    "\n",
    "    if user_id and book_title:\n",
    "        print('cannot have both user_id and book_title')\n",
    "        exit(1)\n",
    "    profiling=user_profiling.UserProfiling()\n",
    "\n",
    "    top_n+=5\n",
    "\n",
    "\n",
    "    if not os.path.exists('profiles.pkl'):\n",
    "        profiling.create_profiles()\n",
    "\n",
    "    df=pd.read_csv('data/book_names_final.csv')\n",
    "\n",
    "    if book_title=='yes':\n",
    "        book_title_input=input('Enter Title of the book:\\n')\n",
    "        book_id_series = df[df.book_title == book_title_input].book_id\n",
    "        if not book_id_series.empty:\n",
    "            book_id = book_id_series.values[0]  # Extract the book_id value\n",
    "            print(f\"Book ID: {book_id}\")\n",
    "        print(book_id)\n",
    "    else:\n",
    "        book_id=None\n",
    "    \n",
    "    recommendations, scores = profiling.recommend_books(user_id,book_id,top_n)\n",
    "    if recommendations is None:\n",
    "        return print('no recommendations found')\n",
    "    titles=[]\n",
    "    \n",
    "    # i list(rec)\n",
    "    for i in list(recommendations):\n",
    "        title=df[df.book_id==i].book_title.values\n",
    "        # print(title)\n",
    "        try:\n",
    "            title=title[0]\n",
    "        except:\n",
    "            continue\n",
    "        \n",
    "        \n",
    "        \n",
    "        titles.append(title)\n",
    "    titles=titles[1:top_n-4]\n",
    "\n",
    "    d=pd.DataFrame({'book_title':titles})\n",
    "    print(d)\n",
    "    # print(scores)\n",
    "\n",
    "def main():\n",
    "    get_recommendation(user_id=1,book_title=None)\n",
    "    \n"
   ]
  },
  {
   "cell_type": "code",
   "execution_count": null,
   "metadata": {},
   "outputs": [],
   "source": []
  },
  {
   "cell_type": "code",
   "execution_count": 38,
   "metadata": {},
   "outputs": [
    {
     "name": "stdout",
     "output_type": "stream",
     "text": [
      "                                          book_title\n",
      "0  Adapt and Plan for the New Abnormal of the COV...\n",
      "1  Trump: Think Like a Billionaire: Everything Yo...\n",
      "2  Brain Rules: 12 Principles for Surviving and T...\n",
      "3                                      How We Decide\n",
      "4                             Trump: How to Get Rich\n",
      "5   The Checklist Manifesto: How to Get Things Right\n",
      "6  The Fifth Discipline: The Art & Practice of Th...\n",
      "7  Creativity, Inc.: Overcoming the Unseen Forces...\n",
      "8  Made to Stick: Why Some Ideas Survive and Othe...\n",
      "9  A Whole New Mind: Why Right-Brainers Will Rule...\n"
     ]
    }
   ],
   "source": [
    "main()"
   ]
  },
  {
   "cell_type": "code",
   "execution_count": 6,
   "metadata": {},
   "outputs": [
    {
     "name": "stdout",
     "output_type": "stream",
     "text": [
      "Adapt and Plan for the New Abnormal of the COVID-19 Coronavirus Pandemic: Adapt and Plan for the New Abnormal of the COVID-19 Coronavirus Pandemic\n",
      "Trump: Think Like a Billionaire: Everything You Need to Know About Success, Real Estate, and Life\n",
      "Brain Rules: 12 Principles for Surviving and Thriving at Work, Home, and School\n",
      "How We Decide\n",
      "Trump: How to Get Rich\n",
      "The Checklist Manifesto: How to Get Things Right\n",
      "The Fifth Discipline: The Art & Practice of The Learning Organization\n",
      "Creativity, Inc.: Overcoming the Unseen Forces That Stand in the Way of True Inspiration\n",
      "Made to Stick: Why Some Ideas Survive and Others Die\n"
     ]
    }
   ],
   "source": [
    "import user_profiling\n",
    "import os\n",
    "import psycopg2\n",
    "from dotenv import load_dotenv\n",
    "\n",
    "def get_recommendation(user_id=None, book_title=None, top_n=10):\n",
    "    if user_id and book_title:\n",
    "        print('Cannot have both user_id and book_title')\n",
    "        exit(1)\n",
    "\n",
    "    profiling = user_profiling.UserProfiling()\n",
    "    top_n += 5\n",
    "\n",
    "    load_dotenv()\n",
    "\n",
    "    connection_string = os.getenv('DATABASE_URL')\n",
    "\n",
    "    # Connect to the Postgres database\n",
    "    conn = psycopg2.connect(connection_string)\n",
    "\n",
    "    # Create a cursor object\n",
    "    cur = conn.cursor()\n",
    "    schema_name = 'books_recommendation'\n",
    "    table_name_name = 'books'\n",
    "\n",
    "    if not os.path.exists('profiles.pkl'):\n",
    "        profiling.create_profiles()\n",
    "\n",
    "    if book_title == 'yes':\n",
    "        book_title_input = input('Enter Title of the book:\\n')\n",
    "        # Execute SQL query to retrieve book_id based on book_title\n",
    "        cur.execute(f\"SELECT book_id FROM {schema_name}.{table_name_name} WHERE book_title = %s\", (book_title_input,))\n",
    "        book_id_row = cur.fetchone()\n",
    "        if book_id_row:\n",
    "            book_id = book_id_row[0]\n",
    "            print(f\"Book ID: {book_id}\")\n",
    "        else:\n",
    "            print(\"Book not found\")\n",
    "            exit(1)\n",
    "    else:\n",
    "        book_id = None\n",
    "\n",
    "    recommendations, scores = profiling.recommend_books(user_id, book_id, top_n)\n",
    "    if recommendations is None:\n",
    "        return print('No recommendations found')\n",
    "\n",
    "    titles = []\n",
    "\n",
    "    for i in list(recommendations):\n",
    "        cur.execute(f\"SELECT book_title FROM {schema_name}.{table_name_name} WHERE book_id = %s\", (i,))\n",
    "        title_row = cur.fetchone()\n",
    "        if title_row:\n",
    "            title = title_row[0]\n",
    "            titles.append(title)\n",
    "\n",
    "    titles = titles[1:top_n-5]\n",
    "\n",
    "    for title in titles:\n",
    "        print(title)\n",
    "\n",
    "    cur.close()\n",
    "    conn.close()\n",
    "\n",
    "def main():\n",
    "    get_recommendation(user_id=1, book_title=None)\n",
    "\n",
    "if __name__ == \"__main__\":\n",
    "    main()\n"
   ]
  },
  {
   "cell_type": "code",
   "execution_count": null,
   "metadata": {},
   "outputs": [],
   "source": []
  }
 ],
 "metadata": {
  "kernelspec": {
   "display_name": "Book_recommendation.venv",
   "language": "python",
   "name": "python3"
  },
  "language_info": {
   "codemirror_mode": {
    "name": "ipython",
    "version": 3
   },
   "file_extension": ".py",
   "mimetype": "text/x-python",
   "name": "python",
   "nbconvert_exporter": "python",
   "pygments_lexer": "ipython3",
   "version": "3.10.12"
  }
 },
 "nbformat": 4,
 "nbformat_minor": 2
}
